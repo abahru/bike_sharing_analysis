{
 "cells": [
  {
   "cell_type": "code",
   "execution_count": 1,
   "metadata": {},
   "outputs": [],
   "source": [
    "import pandas as pd\n",
    "import matplotlib.pyplot as plt"
   ]
  },
  {
   "cell_type": "code",
   "execution_count": 2,
   "metadata": {},
   "outputs": [],
   "source": [
    "# Load cleaned dataset\n",
    "df = pd.read_csv(\"cleaned_data.csv\")"
   ]
  },
  {
   "cell_type": "code",
   "execution_count": 3,
   "metadata": {},
   "outputs": [
    {
     "name": "stdout",
     "output_type": "stream",
     "text": [
      "       start_station_id  end_station_id      start_lat      start_lng  \\\n",
      "count     436529.000000   433210.000000  515167.000000  515167.000000   \n",
      "mean       31381.581588    31383.072944      38.905279     -77.032206   \n",
      "std          289.457924      289.636810       0.028724       0.037154   \n",
      "min        30200.000000    30200.000000      38.750000     -77.390000   \n",
      "25%        31209.000000    31212.000000      38.892221     -77.044597   \n",
      "50%        31288.000000    31288.000000      38.905030     -77.030000   \n",
      "75%        31610.000000    31612.000000      38.918124     -77.011616   \n",
      "max        33200.000000    33200.000000      39.130000     -76.825535   \n",
      "\n",
      "             end_lat        end_lng  trip_duration  \n",
      "count  514758.000000  514758.000000  515167.000000  \n",
      "mean       38.904452     -77.031959      17.345674  \n",
      "std         0.028628       0.037061      53.264197  \n",
      "min        38.700000     -77.490000       0.016667  \n",
      "25%        38.890612     -77.044600       5.783333  \n",
      "50%        38.903658     -77.030000      10.166667  \n",
      "75%        38.917200     -77.010815      17.633333  \n",
      "max        39.130000     -76.740000    1500.250000  \n"
     ]
    }
   ],
   "source": [
    "# Summary statistics\n",
    "print(df.describe())"
   ]
  },
  {
   "cell_type": "code",
   "execution_count": 4,
   "metadata": {},
   "outputs": [
    {
     "name": "stdout",
     "output_type": "stream",
     "text": [
      "member_casual\n",
      "member    336099\n",
      "casual    179068\n",
      "Name: count, dtype: int64\n"
     ]
    }
   ],
   "source": [
    "# Count members vs. casual riders\n",
    "print(df['member_casual'].value_counts())"
   ]
  },
  {
   "cell_type": "code",
   "execution_count": 6,
   "metadata": {},
   "outputs": [
    {
     "data": {
      "text/html": [
       "<div>\n",
       "<style scoped>\n",
       "    .dataframe tbody tr th:only-of-type {\n",
       "        vertical-align: middle;\n",
       "    }\n",
       "\n",
       "    .dataframe tbody tr th {\n",
       "        vertical-align: top;\n",
       "    }\n",
       "\n",
       "    .dataframe thead th {\n",
       "        text-align: right;\n",
       "    }\n",
       "</style>\n",
       "<table border=\"1\" class=\"dataframe\">\n",
       "  <thead>\n",
       "    <tr style=\"text-align: right;\">\n",
       "      <th></th>\n",
       "      <th>count</th>\n",
       "      <th>mean</th>\n",
       "      <th>std</th>\n",
       "      <th>min</th>\n",
       "      <th>25%</th>\n",
       "      <th>50%</th>\n",
       "      <th>75%</th>\n",
       "      <th>max</th>\n",
       "    </tr>\n",
       "    <tr>\n",
       "      <th>member_casual</th>\n",
       "      <th></th>\n",
       "      <th></th>\n",
       "      <th></th>\n",
       "      <th></th>\n",
       "      <th></th>\n",
       "      <th></th>\n",
       "      <th></th>\n",
       "      <th></th>\n",
       "    </tr>\n",
       "  </thead>\n",
       "  <tbody>\n",
       "    <tr>\n",
       "      <th>casual</th>\n",
       "      <td>179068.0</td>\n",
       "      <td>25.749894</td>\n",
       "      <td>75.367302</td>\n",
       "      <td>0.016667</td>\n",
       "      <td>7.683333</td>\n",
       "      <td>13.333333</td>\n",
       "      <td>24.716667</td>\n",
       "      <td>1500.25</td>\n",
       "    </tr>\n",
       "    <tr>\n",
       "      <th>member</th>\n",
       "      <td>336099.0</td>\n",
       "      <td>12.868044</td>\n",
       "      <td>35.561502</td>\n",
       "      <td>0.016667</td>\n",
       "      <td>5.083333</td>\n",
       "      <td>8.883333</td>\n",
       "      <td>14.916667</td>\n",
       "      <td>1499.95</td>\n",
       "    </tr>\n",
       "  </tbody>\n",
       "</table>\n",
       "</div>"
      ],
      "text/plain": [
       "                  count       mean        std       min       25%        50%  \\\n",
       "member_casual                                                                  \n",
       "casual         179068.0  25.749894  75.367302  0.016667  7.683333  13.333333   \n",
       "member         336099.0  12.868044  35.561502  0.016667  5.083333   8.883333   \n",
       "\n",
       "                     75%      max  \n",
       "member_casual                      \n",
       "casual         24.716667  1500.25  \n",
       "member         14.916667  1499.95  "
      ]
     },
     "execution_count": 6,
     "metadata": {},
     "output_type": "execute_result"
    }
   ],
   "source": [
    "# Trip duration comparison\n",
    "df.groupby('member_casual')['trip_duration'].describe()\n"
   ]
  }
 ],
 "metadata": {
  "kernelspec": {
   "display_name": "Python 3",
   "language": "python",
   "name": "python3"
  },
  "language_info": {
   "codemirror_mode": {
    "name": "ipython",
    "version": 3
   },
   "file_extension": ".py",
   "mimetype": "text/x-python",
   "name": "python",
   "nbconvert_exporter": "python",
   "pygments_lexer": "ipython3",
   "version": "3.13.1"
  }
 },
 "nbformat": 4,
 "nbformat_minor": 2
}
